{
 "cells": [
  {
   "cell_type": "code",
   "execution_count": 3,
   "metadata": {},
   "outputs": [],
   "source": [
    "import yfinance as yf\n",
    "import datetime"
   ]
  },
  {
   "cell_type": "code",
   "execution_count": 7,
   "metadata": {},
   "outputs": [],
   "source": [
    "start_date = datetime.datetime(2020, 1, 1)\n",
    "end_date = datetime.datetime(2023, 11, 1)\n",
    "ticker = \"AAPL\""
   ]
  },
  {
   "cell_type": "code",
   "execution_count": 8,
   "metadata": {},
   "outputs": [
    {
     "name": "stdout",
     "output_type": "stream",
     "text": [
      "[*********************100%***********************]  1 of 1 completed\n"
     ]
    }
   ],
   "source": [
    "data = yf.download(ticker, start=start_date, end=end_date)"
   ]
  },
  {
   "cell_type": "code",
   "execution_count": 9,
   "metadata": {},
   "outputs": [
    {
     "name": "stdout",
     "output_type": "stream",
     "text": [
      "                  Open        High         Low       Close   Adj Close  \\\n",
      "Date                                                                     \n",
      "2020-01-02   74.059998   75.150002   73.797501   75.087502   73.152657   \n",
      "2020-01-03   74.287498   75.144997   74.125000   74.357498   72.441460   \n",
      "2020-01-06   73.447502   74.989998   73.187500   74.949997   73.018677   \n",
      "2020-01-07   74.959999   75.224998   74.370003   74.597504   72.675270   \n",
      "2020-01-08   74.290001   76.110001   74.290001   75.797501   73.844360   \n",
      "...                ...         ...         ...         ...         ...   \n",
      "2023-10-25  171.880005  173.059998  170.649994  171.100006  170.874893   \n",
      "2023-10-26  170.369995  171.380005  165.669998  166.889999  166.670425   \n",
      "2023-10-27  166.910004  168.960007  166.830002  168.220001  167.998672   \n",
      "2023-10-30  169.020004  171.169998  168.869995  170.289993  170.065933   \n",
      "2023-10-31  169.350006  170.899994  167.899994  170.770004  170.545319   \n",
      "\n",
      "               Volume  \n",
      "Date                   \n",
      "2020-01-02  135480400  \n",
      "2020-01-03  146322800  \n",
      "2020-01-06  118387200  \n",
      "2020-01-07  108872000  \n",
      "2020-01-08  132079200  \n",
      "...               ...  \n",
      "2023-10-25   57157000  \n",
      "2023-10-26   70625300  \n",
      "2023-10-27   58499100  \n",
      "2023-10-30   51131000  \n",
      "2023-10-31   44846000  \n",
      "\n",
      "[965 rows x 6 columns]\n"
     ]
    }
   ],
   "source": [
    "print(data)"
   ]
  },
  {
   "cell_type": "code",
   "execution_count": null,
   "metadata": {},
   "outputs": [],
   "source": []
  }
 ],
 "metadata": {
  "kernelspec": {
   "display_name": "Python 3",
   "language": "python",
   "name": "python3"
  },
  "language_info": {
   "codemirror_mode": {
    "name": "ipython",
    "version": 3
   },
   "file_extension": ".py",
   "mimetype": "text/x-python",
   "name": "python",
   "nbconvert_exporter": "python",
   "pygments_lexer": "ipython3",
   "version": "3.11.3"
  }
 },
 "nbformat": 4,
 "nbformat_minor": 2
}

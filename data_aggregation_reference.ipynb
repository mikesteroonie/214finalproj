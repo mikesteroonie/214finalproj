{
 "cells": [
  {
   "cell_type": "code",
   "execution_count": 511,
   "metadata": {},
   "outputs": [],
   "source": [
    "import yfinance as yf\n",
    "import datetime\n",
    "import pandas as pd\n",
    "import numpy as np"
   ]
  },
  {
   "cell_type": "code",
   "execution_count": 512,
   "metadata": {},
   "outputs": [],
   "source": [
    "start_date = datetime.datetime(2015, 1, 1)\n",
    "end_date = datetime.datetime(2019, 12, 31)\n",
    "ticker = \"CPHI\"\n",
    "NEUTRAL_BENCHMARK = 0.005"
   ]
  },
  {
   "cell_type": "code",
   "execution_count": 513,
   "metadata": {},
   "outputs": [
    {
     "name": "stdout",
     "output_type": "stream",
     "text": [
      "[*********************100%%**********************]  1 of 1 completed\n",
      "[*********************100%%**********************]  1 of 1 completed\n"
     ]
    }
   ],
   "source": [
    "train_data = yf.download(ticker, start=start_date, end=end_date)\n",
    "test_data = yf.download(ticker, start=end_date, end=datetime.datetime(2023, 11, 29))"
   ]
  },
  {
   "cell_type": "code",
   "execution_count": 514,
   "metadata": {},
   "outputs": [
    {
     "name": "stdout",
     "output_type": "stream",
     "text": [
      "<class 'pandas.core.frame.DataFrame'>\n"
     ]
    }
   ],
   "source": [
    "print(type(train_data))"
   ]
  },
  {
   "cell_type": "code",
   "execution_count": 515,
   "metadata": {},
   "outputs": [
    {
     "data": {
      "text/html": [
       "<div>\n",
       "<style scoped>\n",
       "    .dataframe tbody tr th:only-of-type {\n",
       "        vertical-align: middle;\n",
       "    }\n",
       "\n",
       "    .dataframe tbody tr th {\n",
       "        vertical-align: top;\n",
       "    }\n",
       "\n",
       "    .dataframe thead th {\n",
       "        text-align: right;\n",
       "    }\n",
       "</style>\n",
       "<table border=\"1\" class=\"dataframe\">\n",
       "  <thead>\n",
       "    <tr style=\"text-align: right;\">\n",
       "      <th></th>\n",
       "      <th>Open</th>\n",
       "      <th>High</th>\n",
       "      <th>Low</th>\n",
       "      <th>Close</th>\n",
       "      <th>Adj Close</th>\n",
       "      <th>Volume</th>\n",
       "      <th>daily_return</th>\n",
       "      <th>state</th>\n",
       "    </tr>\n",
       "    <tr>\n",
       "      <th>Date</th>\n",
       "      <th></th>\n",
       "      <th></th>\n",
       "      <th></th>\n",
       "      <th></th>\n",
       "      <th></th>\n",
       "      <th></th>\n",
       "      <th></th>\n",
       "      <th></th>\n",
       "    </tr>\n",
       "  </thead>\n",
       "  <tbody>\n",
       "    <tr>\n",
       "      <th>2015-01-02</th>\n",
       "      <td>3.1</td>\n",
       "      <td>3.4</td>\n",
       "      <td>3.1</td>\n",
       "      <td>3.1</td>\n",
       "      <td>3.1</td>\n",
       "      <td>2330</td>\n",
       "      <td>NaN</td>\n",
       "      <td>neutral</td>\n",
       "    </tr>\n",
       "    <tr>\n",
       "      <th>2015-01-05</th>\n",
       "      <td>3.1</td>\n",
       "      <td>3.5</td>\n",
       "      <td>3.1</td>\n",
       "      <td>3.1</td>\n",
       "      <td>3.1</td>\n",
       "      <td>3890</td>\n",
       "      <td>0.000000</td>\n",
       "      <td>neutral</td>\n",
       "    </tr>\n",
       "    <tr>\n",
       "      <th>2015-01-06</th>\n",
       "      <td>3.5</td>\n",
       "      <td>3.5</td>\n",
       "      <td>3.1</td>\n",
       "      <td>3.1</td>\n",
       "      <td>3.1</td>\n",
       "      <td>3040</td>\n",
       "      <td>0.000000</td>\n",
       "      <td>neutral</td>\n",
       "    </tr>\n",
       "    <tr>\n",
       "      <th>2015-01-07</th>\n",
       "      <td>3.2</td>\n",
       "      <td>3.5</td>\n",
       "      <td>3.1</td>\n",
       "      <td>3.1</td>\n",
       "      <td>3.1</td>\n",
       "      <td>3600</td>\n",
       "      <td>0.000000</td>\n",
       "      <td>neutral</td>\n",
       "    </tr>\n",
       "    <tr>\n",
       "      <th>2015-01-08</th>\n",
       "      <td>3.1</td>\n",
       "      <td>3.4</td>\n",
       "      <td>3.1</td>\n",
       "      <td>3.2</td>\n",
       "      <td>3.2</td>\n",
       "      <td>1810</td>\n",
       "      <td>0.032258</td>\n",
       "      <td>up</td>\n",
       "    </tr>\n",
       "    <tr>\n",
       "      <th>2015-01-09</th>\n",
       "      <td>3.3</td>\n",
       "      <td>3.4</td>\n",
       "      <td>3.2</td>\n",
       "      <td>3.2</td>\n",
       "      <td>3.2</td>\n",
       "      <td>200</td>\n",
       "      <td>0.000000</td>\n",
       "      <td>neutral</td>\n",
       "    </tr>\n",
       "    <tr>\n",
       "      <th>2015-01-12</th>\n",
       "      <td>3.2</td>\n",
       "      <td>3.3</td>\n",
       "      <td>3.2</td>\n",
       "      <td>3.2</td>\n",
       "      <td>3.2</td>\n",
       "      <td>1140</td>\n",
       "      <td>0.000000</td>\n",
       "      <td>neutral</td>\n",
       "    </tr>\n",
       "    <tr>\n",
       "      <th>2015-01-13</th>\n",
       "      <td>3.2</td>\n",
       "      <td>3.3</td>\n",
       "      <td>3.2</td>\n",
       "      <td>3.2</td>\n",
       "      <td>3.2</td>\n",
       "      <td>2420</td>\n",
       "      <td>0.000000</td>\n",
       "      <td>neutral</td>\n",
       "    </tr>\n",
       "    <tr>\n",
       "      <th>2015-01-14</th>\n",
       "      <td>3.3</td>\n",
       "      <td>3.3</td>\n",
       "      <td>3.1</td>\n",
       "      <td>3.1</td>\n",
       "      <td>3.1</td>\n",
       "      <td>2010</td>\n",
       "      <td>-0.031250</td>\n",
       "      <td>down</td>\n",
       "    </tr>\n",
       "    <tr>\n",
       "      <th>2015-01-15</th>\n",
       "      <td>3.1</td>\n",
       "      <td>3.1</td>\n",
       "      <td>3.0</td>\n",
       "      <td>3.0</td>\n",
       "      <td>3.0</td>\n",
       "      <td>1740</td>\n",
       "      <td>-0.032258</td>\n",
       "      <td>down</td>\n",
       "    </tr>\n",
       "    <tr>\n",
       "      <th>2015-01-16</th>\n",
       "      <td>3.0</td>\n",
       "      <td>3.0</td>\n",
       "      <td>2.7</td>\n",
       "      <td>2.9</td>\n",
       "      <td>2.9</td>\n",
       "      <td>3710</td>\n",
       "      <td>-0.033333</td>\n",
       "      <td>down</td>\n",
       "    </tr>\n",
       "    <tr>\n",
       "      <th>2015-01-20</th>\n",
       "      <td>2.9</td>\n",
       "      <td>3.1</td>\n",
       "      <td>2.9</td>\n",
       "      <td>3.1</td>\n",
       "      <td>3.1</td>\n",
       "      <td>420</td>\n",
       "      <td>0.068965</td>\n",
       "      <td>up</td>\n",
       "    </tr>\n",
       "    <tr>\n",
       "      <th>2015-01-21</th>\n",
       "      <td>3.1</td>\n",
       "      <td>3.1</td>\n",
       "      <td>2.7</td>\n",
       "      <td>3.1</td>\n",
       "      <td>3.1</td>\n",
       "      <td>8860</td>\n",
       "      <td>0.000000</td>\n",
       "      <td>neutral</td>\n",
       "    </tr>\n",
       "    <tr>\n",
       "      <th>2015-01-22</th>\n",
       "      <td>3.1</td>\n",
       "      <td>3.1</td>\n",
       "      <td>2.7</td>\n",
       "      <td>3.0</td>\n",
       "      <td>3.0</td>\n",
       "      <td>2970</td>\n",
       "      <td>-0.032258</td>\n",
       "      <td>down</td>\n",
       "    </tr>\n",
       "    <tr>\n",
       "      <th>2015-01-23</th>\n",
       "      <td>2.9</td>\n",
       "      <td>2.9</td>\n",
       "      <td>2.8</td>\n",
       "      <td>2.8</td>\n",
       "      <td>2.8</td>\n",
       "      <td>440</td>\n",
       "      <td>-0.066667</td>\n",
       "      <td>down</td>\n",
       "    </tr>\n",
       "  </tbody>\n",
       "</table>\n",
       "</div>"
      ],
      "text/plain": [
       "            Open  High  Low  Close  Adj Close  Volume  daily_return    state\n",
       "Date                                                                        \n",
       "2015-01-02   3.1   3.4  3.1    3.1        3.1    2330           NaN  neutral\n",
       "2015-01-05   3.1   3.5  3.1    3.1        3.1    3890      0.000000  neutral\n",
       "2015-01-06   3.5   3.5  3.1    3.1        3.1    3040      0.000000  neutral\n",
       "2015-01-07   3.2   3.5  3.1    3.1        3.1    3600      0.000000  neutral\n",
       "2015-01-08   3.1   3.4  3.1    3.2        3.2    1810      0.032258       up\n",
       "2015-01-09   3.3   3.4  3.2    3.2        3.2     200      0.000000  neutral\n",
       "2015-01-12   3.2   3.3  3.2    3.2        3.2    1140      0.000000  neutral\n",
       "2015-01-13   3.2   3.3  3.2    3.2        3.2    2420      0.000000  neutral\n",
       "2015-01-14   3.3   3.3  3.1    3.1        3.1    2010     -0.031250     down\n",
       "2015-01-15   3.1   3.1  3.0    3.0        3.0    1740     -0.032258     down\n",
       "2015-01-16   3.0   3.0  2.7    2.9        2.9    3710     -0.033333     down\n",
       "2015-01-20   2.9   3.1  2.9    3.1        3.1     420      0.068965       up\n",
       "2015-01-21   3.1   3.1  2.7    3.1        3.1    8860      0.000000  neutral\n",
       "2015-01-22   3.1   3.1  2.7    3.0        3.0    2970     -0.032258     down\n",
       "2015-01-23   2.9   2.9  2.8    2.8        2.8     440     -0.066667     down"
      ]
     },
     "execution_count": 515,
     "metadata": {},
     "output_type": "execute_result"
    }
   ],
   "source": [
    "train_data[\"daily_return\"] = train_data[\"Adj Close\"].pct_change()\n",
    "train_data[\"state\"] = np.select(\n",
    "    [train_data[\"daily_return\"] > NEUTRAL_BENCHMARK, train_data[\"daily_return\"] < -1 * NEUTRAL_BENCHMARK],\n",
    "    [\"up\", \"down\"],\n",
    "    default=\"neutral\"\n",
    ")\n",
    "train_data.head(15)"
   ]
  },
  {
   "cell_type": "code",
   "execution_count": 516,
   "metadata": {},
   "outputs": [],
   "source": [
    "up_to_up = len(train_data[(train_data[\"state\"] == \"up\") & (train_data[\"state\"].shift(-1) == \"up\")]) / len(train_data.query('state == \"up\"'))\n",
    "up_to_down = len(train_data[(train_data[\"state\"] == \"down\") & (train_data[\"state\"].shift(-1) == \"up\")]) / len(train_data.query('state == \"up\"'))\n",
    "up_to_neutral = len(train_data[(train_data[\"state\"] == \"neutral\") & (train_data[\"state\"].shift(-1) == \"up\")]) / len(train_data.query('state == \"up\"'))\n",
    "\n",
    "down_to_down = len(train_data[(train_data[\"state\"] == \"down\") & (train_data[\"state\"].shift(-1) == \"down\")]) / len(train_data.query('state == \"down\"'))\n",
    "down_to_up = len(train_data[(train_data[\"state\"] == \"up\") & (train_data[\"state\"].shift(-1) == \"down\")]) / len(train_data.query('state == \"down\"'))\n",
    "down_to_neutral = len(train_data[(train_data[\"state\"] == \"neutral\") & (train_data[\"state\"].shift(-1) == \"down\")]) / len(train_data.query('state == \"down\"'))\n",
    "\n",
    "neutral_to_neutral = len(train_data[(train_data[\"state\"] == \"neutral\") & (train_data[\"state\"].shift(-1) == \"neutral\")]) / len(train_data.query('state == \"neutral\"'))\n",
    "neutral_to_up = len(train_data[(train_data[\"state\"] == \"up\") & (train_data[\"state\"].shift(-1) == \"neutral\")]) / len(train_data.query('state == \"neutral\"'))\n",
    "neutral_to_down = len(train_data[(train_data[\"state\"] == \"down\") & (train_data[\"state\"].shift(-1) == \"neutral\")]) / len(train_data.query('state == \"neutral\"'))"
   ]
  },
  {
   "cell_type": "code",
   "execution_count": null,
   "metadata": {},
   "outputs": [],
   "source": []
  },
  {
   "cell_type": "code",
   "execution_count": 517,
   "metadata": {},
   "outputs": [
    {
     "name": "stdout",
     "output_type": "stream",
     "text": [
      "               up   neutral      down\n",
      "up       0.224551  0.203125  0.377129\n",
      "neutral  0.308383  0.498047  0.374696\n",
      "down     0.467066  0.296875  0.248175\n"
     ]
    }
   ],
   "source": [
    "transition_matrix = pd.DataFrame({\n",
    "    \"up\": [up_to_up, up_to_neutral, up_to_down],\n",
    "    \"neutral\": [neutral_to_up, neutral_to_neutral, neutral_to_down],\n",
    "    \"down\": [down_to_up, down_to_neutral, down_to_down]\n",
    "}, index=[\"up\", \"neutral\", \"down\"])\n",
    "transition_matrix.head()\n",
    "print(transition_matrix)"
   ]
  },
  {
   "cell_type": "code",
   "execution_count": 518,
   "metadata": {},
   "outputs": [
    {
     "data": {
      "text/html": [
       "<div>\n",
       "<style scoped>\n",
       "    .dataframe tbody tr th:only-of-type {\n",
       "        vertical-align: middle;\n",
       "    }\n",
       "\n",
       "    .dataframe tbody tr th {\n",
       "        vertical-align: top;\n",
       "    }\n",
       "\n",
       "    .dataframe thead th {\n",
       "        text-align: right;\n",
       "    }\n",
       "</style>\n",
       "<table border=\"1\" class=\"dataframe\">\n",
       "  <thead>\n",
       "    <tr style=\"text-align: right;\">\n",
       "      <th></th>\n",
       "      <th>Open</th>\n",
       "      <th>High</th>\n",
       "      <th>Low</th>\n",
       "      <th>Close</th>\n",
       "      <th>Adj Close</th>\n",
       "      <th>Volume</th>\n",
       "      <th>daily_return</th>\n",
       "      <th>state</th>\n",
       "    </tr>\n",
       "    <tr>\n",
       "      <th>Date</th>\n",
       "      <th></th>\n",
       "      <th></th>\n",
       "      <th></th>\n",
       "      <th></th>\n",
       "      <th></th>\n",
       "      <th></th>\n",
       "      <th></th>\n",
       "      <th></th>\n",
       "    </tr>\n",
       "  </thead>\n",
       "  <tbody>\n",
       "    <tr>\n",
       "      <th>2020-01-02</th>\n",
       "      <td>74.059998</td>\n",
       "      <td>75.150002</td>\n",
       "      <td>73.797501</td>\n",
       "      <td>75.087502</td>\n",
       "      <td>73.152657</td>\n",
       "      <td>135480400</td>\n",
       "      <td>NaN</td>\n",
       "      <td>down</td>\n",
       "    </tr>\n",
       "    <tr>\n",
       "      <th>2020-01-03</th>\n",
       "      <td>74.287498</td>\n",
       "      <td>75.144997</td>\n",
       "      <td>74.125000</td>\n",
       "      <td>74.357498</td>\n",
       "      <td>72.441467</td>\n",
       "      <td>146322800</td>\n",
       "      <td>-0.009722</td>\n",
       "      <td>down</td>\n",
       "    </tr>\n",
       "    <tr>\n",
       "      <th>2020-01-06</th>\n",
       "      <td>73.447502</td>\n",
       "      <td>74.989998</td>\n",
       "      <td>73.187500</td>\n",
       "      <td>74.949997</td>\n",
       "      <td>73.018677</td>\n",
       "      <td>118387200</td>\n",
       "      <td>0.007968</td>\n",
       "      <td>up</td>\n",
       "    </tr>\n",
       "    <tr>\n",
       "      <th>2020-01-07</th>\n",
       "      <td>74.959999</td>\n",
       "      <td>75.224998</td>\n",
       "      <td>74.370003</td>\n",
       "      <td>74.597504</td>\n",
       "      <td>72.675278</td>\n",
       "      <td>108872000</td>\n",
       "      <td>-0.004703</td>\n",
       "      <td>down</td>\n",
       "    </tr>\n",
       "    <tr>\n",
       "      <th>2020-01-08</th>\n",
       "      <td>74.290001</td>\n",
       "      <td>76.110001</td>\n",
       "      <td>74.290001</td>\n",
       "      <td>75.797501</td>\n",
       "      <td>73.844353</td>\n",
       "      <td>132079200</td>\n",
       "      <td>0.016086</td>\n",
       "      <td>up</td>\n",
       "    </tr>\n",
       "  </tbody>\n",
       "</table>\n",
       "</div>"
      ],
      "text/plain": [
       "                 Open       High        Low      Close  Adj Close     Volume  \\\n",
       "Date                                                                           \n",
       "2020-01-02  74.059998  75.150002  73.797501  75.087502  73.152657  135480400   \n",
       "2020-01-03  74.287498  75.144997  74.125000  74.357498  72.441467  146322800   \n",
       "2020-01-06  73.447502  74.989998  73.187500  74.949997  73.018677  118387200   \n",
       "2020-01-07  74.959999  75.224998  74.370003  74.597504  72.675278  108872000   \n",
       "2020-01-08  74.290001  76.110001  74.290001  75.797501  73.844353  132079200   \n",
       "\n",
       "            daily_return state  \n",
       "Date                            \n",
       "2020-01-02           NaN  down  \n",
       "2020-01-03     -0.009722  down  \n",
       "2020-01-06      0.007968    up  \n",
       "2020-01-07     -0.004703  down  \n",
       "2020-01-08      0.016086    up  "
      ]
     },
     "execution_count": 518,
     "metadata": {},
     "output_type": "execute_result"
    }
   ],
   "source": [
    "data.head()"
   ]
  },
  {
   "cell_type": "code",
   "execution_count": null,
   "metadata": {},
   "outputs": [],
   "source": []
  },
  {
   "cell_type": "code",
   "execution_count": 519,
   "metadata": {},
   "outputs": [],
   "source": [
    "from backtesting import Backtest, Strategy"
   ]
  },
  {
   "cell_type": "code",
   "execution_count": 520,
   "metadata": {},
   "outputs": [],
   "source": [
    "from enum import Enum\n",
    "\n",
    "class Trend(Enum):\n",
    "    DOWN = \"Down\"\n",
    "    UP = \"Up\"\n",
    "    NEUTRAL = \"Neutral\""
   ]
  },
  {
   "cell_type": "code",
   "execution_count": 521,
   "metadata": {},
   "outputs": [],
   "source": [
    "max_up_values = max(up_to_up, down_to_up, neutral_to_up)\n",
    "if max_up_values == up_to_up:\n",
    "    trend_up = Trend.UP\n",
    "elif max_up_values == down_to_up:\n",
    "    trend_up = Trend.DOWN\n",
    "else:\n",
    "    trend_up = Trend.NEUTRAL\n",
    "\n",
    "# Determine trend.down\n",
    "max_down_values = max(up_to_down, down_to_down, neutral_to_down)\n",
    "if max_down_values == up_to_down:\n",
    "    trend_down = Trend.UP\n",
    "elif max_down_values == down_to_down:\n",
    "    trend_down = Trend.DOWN\n",
    "else:\n",
    "    trend_down = Trend.NEUTRAL"
   ]
  },
  {
   "cell_type": "code",
   "execution_count": 522,
   "metadata": {},
   "outputs": [],
   "source": [
    "class MarkovStrategy(Strategy):\n",
    "    def init(self):\n",
    "        \"\"\"init\"\"\"\n",
    "\n",
    "    def get_state(self):\n",
    "        close_yest = self.data.Close[-2]\n",
    "        close_today = self.data.Close[-1]\n",
    "\n",
    "        pct = (close_today - close_yest) / close_yest\n",
    "\n",
    "        if pct > NEUTRAL_BENCHMARK:\n",
    "            return Trend.UP\n",
    "        elif pct < -NEUTRAL_BENCHMARK:\n",
    "            return Trend.DOWN\n",
    "        else:\n",
    "            return Trend.NEUTRAL\n",
    "\n",
    "\n",
    "    def next(self):\n",
    "        state = self.get_state()\n",
    "\n",
    "        self.position.close()\n",
    "        \n",
    "        if state == trend_down:\n",
    "            self.sell()\n",
    "        elif state == trend_up:\n",
    "            self.buy()\n",
    "\n",
    "        "
   ]
  },
  {
   "cell_type": "code",
   "execution_count": 523,
   "metadata": {},
   "outputs": [
    {
     "data": {
      "text/plain": [
       "Start                     2019-12-31 00:00:00\n",
       "End                       2023-11-28 00:00:00\n",
       "Duration                   1428 days 00:00:00\n",
       "Exposure Time [%]                    88.22335\n",
       "Equity Final [$]                  1943.333128\n",
       "Equity Peak [$]                   85646.58388\n",
       "Return [%]                         -80.566669\n",
       "Buy & Hold Return [%]              -95.833333\n",
       "Return (Ann.) [%]                   -34.23669\n",
       "Volatility (Ann.) [%]              131.024536\n",
       "Sharpe Ratio                              0.0\n",
       "Sortino Ratio                             0.0\n",
       "Calmar Ratio                              0.0\n",
       "Max. Drawdown [%]                  -98.296463\n",
       "Avg. Drawdown [%]                    -26.7216\n",
       "Max. Drawdown Duration     1012 days 00:00:00\n",
       "Avg. Drawdown Duration       88 days 00:00:00\n",
       "# Trades                                  716\n",
       "Win Rate [%]                         42.73743\n",
       "Best Trade [%]                      78.571437\n",
       "Worst Trade [%]                    -88.888882\n",
       "Avg. Trade [%]                      -0.215355\n",
       "Max. Trade Duration           4 days 00:00:00\n",
       "Avg. Trade Duration           2 days 00:00:00\n",
       "Profit Factor                        1.123035\n",
       "Expectancy [%]                       0.345086\n",
       "SQN                                 -0.087941\n",
       "_strategy                      MarkovStrategy\n",
       "_equity_curve                             ...\n",
       "_trades                         Size  Entr...\n",
       "dtype: object"
      ]
     },
     "execution_count": 523,
     "metadata": {},
     "output_type": "execute_result"
    }
   ],
   "source": [
    "bt = Backtest(test_data, MarkovStrategy, cash=10000, commission=0)\n",
    "stats = bt.run()\n",
    "stats"
   ]
  },
  {
   "cell_type": "code",
   "execution_count": 524,
   "metadata": {},
   "outputs": [
    {
     "name": "stderr",
     "output_type": "stream",
     "text": [
      "BokehDeprecationWarning: Passing lists of formats for DatetimeTickFormatter scales was deprecated in Bokeh 3.0. Configure a single string format for each scale\n",
      "/home/hunter/math214/214finalproj/.env/lib/python3.10/site-packages/backtesting/_plotting.py:250: UserWarning: DatetimeFormatter scales now only accept a single format. Using the first provided: '%d %b'\n",
      "  formatter=DatetimeTickFormatter(days=['%d %b', '%a %d'],\n",
      "BokehDeprecationWarning: Passing lists of formats for DatetimeTickFormatter scales was deprecated in Bokeh 3.0. Configure a single string format for each scale\n",
      "/home/hunter/math214/214finalproj/.env/lib/python3.10/site-packages/backtesting/_plotting.py:250: UserWarning: DatetimeFormatter scales now only accept a single format. Using the first provided: '%m/%Y'\n",
      "  formatter=DatetimeTickFormatter(days=['%d %b', '%a %d'],\n",
      "/home/hunter/math214/214finalproj/.env/lib/python3.10/site-packages/backtesting/_plotting.py:659: UserWarning: found multiple competing values for 'toolbar.active_drag' property; using the latest value\n",
      "  fig = gridplot(\n",
      "/home/hunter/math214/214finalproj/.env/lib/python3.10/site-packages/backtesting/_plotting.py:659: UserWarning: found multiple competing values for 'toolbar.active_scroll' property; using the latest value\n",
      "  fig = gridplot(\n"
     ]
    },
    {
     "data": {
      "text/html": [
       "<div style=\"display: table;\"><div style=\"display: table-row;\"><div style=\"display: table-cell;\"><b title=\"bokeh.models.plots.GridPlot\">GridPlot</b>(</div><div style=\"display: table-cell;\">id&nbsp;=&nbsp;'p10832', <span id=\"p10862\" style=\"cursor: pointer;\">&hellip;)</span></div></div><div class=\"p10861\" style=\"display: none;\"><div style=\"display: table-cell;\"></div><div style=\"display: table-cell;\">align&nbsp;=&nbsp;'auto',</div></div><div class=\"p10861\" style=\"display: none;\"><div style=\"display: table-cell;\"></div><div style=\"display: table-cell;\">aspect_ratio&nbsp;=&nbsp;None,</div></div><div class=\"p10861\" style=\"display: none;\"><div style=\"display: table-cell;\"></div><div style=\"display: table-cell;\">children&nbsp;=&nbsp;[(figure(id='p10585', ...), 0, 0), (figure(id='p10678', ...), 1, 0), (figure(id='p10545', ...), 2, 0), (figure(id='p10729', ...), 3, 0)],</div></div><div class=\"p10861\" style=\"display: none;\"><div style=\"display: table-cell;\"></div><div style=\"display: table-cell;\">cols&nbsp;=&nbsp;None,</div></div><div class=\"p10861\" style=\"display: none;\"><div style=\"display: table-cell;\"></div><div style=\"display: table-cell;\">context_menu&nbsp;=&nbsp;None,</div></div><div class=\"p10861\" style=\"display: none;\"><div style=\"display: table-cell;\"></div><div style=\"display: table-cell;\">css_classes&nbsp;=&nbsp;[],</div></div><div class=\"p10861\" style=\"display: none;\"><div style=\"display: table-cell;\"></div><div style=\"display: table-cell;\">disabled&nbsp;=&nbsp;False,</div></div><div class=\"p10861\" style=\"display: none;\"><div style=\"display: table-cell;\"></div><div style=\"display: table-cell;\">flow_mode&nbsp;=&nbsp;'block',</div></div><div class=\"p10861\" style=\"display: none;\"><div style=\"display: table-cell;\"></div><div style=\"display: table-cell;\">height&nbsp;=&nbsp;None,</div></div><div class=\"p10861\" style=\"display: none;\"><div style=\"display: table-cell;\"></div><div style=\"display: table-cell;\">height_policy&nbsp;=&nbsp;'auto',</div></div><div class=\"p10861\" style=\"display: none;\"><div style=\"display: table-cell;\"></div><div style=\"display: table-cell;\">js_event_callbacks&nbsp;=&nbsp;{},</div></div><div class=\"p10861\" style=\"display: none;\"><div style=\"display: table-cell;\"></div><div style=\"display: table-cell;\">js_property_callbacks&nbsp;=&nbsp;{},</div></div><div class=\"p10861\" style=\"display: none;\"><div style=\"display: table-cell;\"></div><div style=\"display: table-cell;\">margin&nbsp;=&nbsp;None,</div></div><div class=\"p10861\" style=\"display: none;\"><div style=\"display: table-cell;\"></div><div style=\"display: table-cell;\">max_height&nbsp;=&nbsp;None,</div></div><div class=\"p10861\" style=\"display: none;\"><div style=\"display: table-cell;\"></div><div style=\"display: table-cell;\">max_width&nbsp;=&nbsp;None,</div></div><div class=\"p10861\" style=\"display: none;\"><div style=\"display: table-cell;\"></div><div style=\"display: table-cell;\">min_height&nbsp;=&nbsp;None,</div></div><div class=\"p10861\" style=\"display: none;\"><div style=\"display: table-cell;\"></div><div style=\"display: table-cell;\">min_width&nbsp;=&nbsp;None,</div></div><div class=\"p10861\" style=\"display: none;\"><div style=\"display: table-cell;\"></div><div style=\"display: table-cell;\">name&nbsp;=&nbsp;None,</div></div><div class=\"p10861\" style=\"display: none;\"><div style=\"display: table-cell;\"></div><div style=\"display: table-cell;\">resizable&nbsp;=&nbsp;False,</div></div><div class=\"p10861\" style=\"display: none;\"><div style=\"display: table-cell;\"></div><div style=\"display: table-cell;\">rows&nbsp;=&nbsp;None,</div></div><div class=\"p10861\" style=\"display: none;\"><div style=\"display: table-cell;\"></div><div style=\"display: table-cell;\">sizing_mode&nbsp;=&nbsp;'stretch_width',</div></div><div class=\"p10861\" style=\"display: none;\"><div style=\"display: table-cell;\"></div><div style=\"display: table-cell;\">spacing&nbsp;=&nbsp;0,</div></div><div class=\"p10861\" style=\"display: none;\"><div style=\"display: table-cell;\"></div><div style=\"display: table-cell;\">styles&nbsp;=&nbsp;{},</div></div><div class=\"p10861\" style=\"display: none;\"><div style=\"display: table-cell;\"></div><div style=\"display: table-cell;\">stylesheets&nbsp;=&nbsp;[],</div></div><div class=\"p10861\" style=\"display: none;\"><div style=\"display: table-cell;\"></div><div style=\"display: table-cell;\">subscribed_events&nbsp;=&nbsp;PropertyValueSet(),</div></div><div class=\"p10861\" style=\"display: none;\"><div style=\"display: table-cell;\"></div><div style=\"display: table-cell;\">syncable&nbsp;=&nbsp;True,</div></div><div class=\"p10861\" style=\"display: none;\"><div style=\"display: table-cell;\"></div><div style=\"display: table-cell;\">tags&nbsp;=&nbsp;[],</div></div><div class=\"p10861\" style=\"display: none;\"><div style=\"display: table-cell;\"></div><div style=\"display: table-cell;\">toolbar&nbsp;=&nbsp;Toolbar(id='p10831', ...),</div></div><div class=\"p10861\" style=\"display: none;\"><div style=\"display: table-cell;\"></div><div style=\"display: table-cell;\">toolbar_location&nbsp;=&nbsp;'right',</div></div><div class=\"p10861\" style=\"display: none;\"><div style=\"display: table-cell;\"></div><div style=\"display: table-cell;\">visible&nbsp;=&nbsp;True,</div></div><div class=\"p10861\" style=\"display: none;\"><div style=\"display: table-cell;\"></div><div style=\"display: table-cell;\">width&nbsp;=&nbsp;None,</div></div><div class=\"p10861\" style=\"display: none;\"><div style=\"display: table-cell;\"></div><div style=\"display: table-cell;\">width_policy&nbsp;=&nbsp;'auto')</div></div></div>\n",
       "<script>\n",
       "(function() {\n",
       "  let expanded = false;\n",
       "  const ellipsis = document.getElementById(\"p10862\");\n",
       "  ellipsis.addEventListener(\"click\", function() {\n",
       "    const rows = document.getElementsByClassName(\"p10861\");\n",
       "    for (let i = 0; i < rows.length; i++) {\n",
       "      const el = rows[i];\n",
       "      el.style.display = expanded ? \"none\" : \"table-row\";\n",
       "    }\n",
       "    ellipsis.innerHTML = expanded ? \"&hellip;)\" : \"&lsaquo;&lsaquo;&lsaquo;\";\n",
       "    expanded = !expanded;\n",
       "  });\n",
       "})();\n",
       "</script>\n"
      ],
      "text/plain": [
       "GridPlot(id='p10832', ...)"
      ]
     },
     "execution_count": 524,
     "metadata": {},
     "output_type": "execute_result"
    }
   ],
   "source": [
    "bt.plot()\n"
   ]
  },
  {
   "cell_type": "code",
   "execution_count": 525,
   "metadata": {},
   "outputs": [
    {
     "name": "stdout",
     "output_type": "stream",
     "text": [
      "416.66665631863845\n"
     ]
    },
    {
     "name": "stderr",
     "output_type": "stream",
     "text": [
      "/tmp/ipykernel_8099/2454357074.py:1: FutureWarning: Series.__getitem__ treating keys as positions is deprecated. In a future version, integer keys will always be treated as labels (consistent with DataFrame behavior). To access a value by position, use `ser.iloc[pos]`\n",
      "  NAIVE_PROFIT = (10000 / test_data[\"Adj Close\"][0]) * test_data[\"Adj Close\"][-1]\n"
     ]
    }
   ],
   "source": [
    "NAIVE_PROFIT = (10000 / test_data[\"Adj Close\"][0]) * test_data[\"Adj Close\"][-1]\n",
    "print(NAIVE_PROFIT)"
   ]
  },
  {
   "cell_type": "code",
   "execution_count": 526,
   "metadata": {},
   "outputs": [
    {
     "data": {
      "text/plain": [
       "<backtesting.backtesting.Backtest at 0x7f7dbe00b3d0>"
      ]
     },
     "execution_count": 526,
     "metadata": {},
     "output_type": "execute_result"
    }
   ],
   "source": [
    "bt"
   ]
  }
 ],
 "metadata": {
  "kernelspec": {
   "display_name": "Python 3",
   "language": "python",
   "name": "python3"
  },
  "language_info": {
   "codemirror_mode": {
    "name": "ipython",
    "version": 3
   },
   "file_extension": ".py",
   "mimetype": "text/x-python",
   "name": "python",
   "nbconvert_exporter": "python",
   "pygments_lexer": "ipython3",
   "version": "3.10.8"
  }
 },
 "nbformat": 4,
 "nbformat_minor": 2
}

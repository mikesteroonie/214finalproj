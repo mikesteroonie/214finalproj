{
 "cells": [
  {
   "cell_type": "code",
   "execution_count": 392,
   "metadata": {},
   "outputs": [],
   "source": [
    "import yfinance as yf\n",
    "import datetime\n",
    "import pandas as pd\n",
    "import numpy as np"
   ]
  },
  {
   "cell_type": "code",
   "execution_count": 393,
   "metadata": {},
   "outputs": [],
   "source": [
    "start_date = datetime.datetime(2021, 1, 1)\n",
    "end_date = datetime.datetime(2022, 12, 31)\n",
    "ticker = \"SPY\"\n",
    "NEUTRAL_BENCHMARK = 0.005"
   ]
  },
  {
   "cell_type": "code",
   "execution_count": 394,
   "metadata": {},
   "outputs": [
    {
     "name": "stdout",
     "output_type": "stream",
     "text": [
      "[*********************100%%**********************]  1 of 1 completed\n"
     ]
    }
   ],
   "source": [
    "train_data = yf.download(ticker, start=start_date, end=end_date)"
   ]
  },
  {
   "cell_type": "code",
   "execution_count": 395,
   "metadata": {},
   "outputs": [
    {
     "name": "stdout",
     "output_type": "stream",
     "text": [
      "<class 'pandas.core.frame.DataFrame'>\n"
     ]
    }
   ],
   "source": [
    "print(type(train_data))"
   ]
  },
  {
   "cell_type": "code",
   "execution_count": 396,
   "metadata": {},
   "outputs": [
    {
     "data": {
      "text/html": [
       "<div>\n",
       "<style scoped>\n",
       "    .dataframe tbody tr th:only-of-type {\n",
       "        vertical-align: middle;\n",
       "    }\n",
       "\n",
       "    .dataframe tbody tr th {\n",
       "        vertical-align: top;\n",
       "    }\n",
       "\n",
       "    .dataframe thead th {\n",
       "        text-align: right;\n",
       "    }\n",
       "</style>\n",
       "<table border=\"1\" class=\"dataframe\">\n",
       "  <thead>\n",
       "    <tr style=\"text-align: right;\">\n",
       "      <th></th>\n",
       "      <th>Open</th>\n",
       "      <th>High</th>\n",
       "      <th>Low</th>\n",
       "      <th>Close</th>\n",
       "      <th>Adj Close</th>\n",
       "      <th>Volume</th>\n",
       "      <th>daily_return</th>\n",
       "      <th>state</th>\n",
       "    </tr>\n",
       "    <tr>\n",
       "      <th>Date</th>\n",
       "      <th></th>\n",
       "      <th></th>\n",
       "      <th></th>\n",
       "      <th></th>\n",
       "      <th></th>\n",
       "      <th></th>\n",
       "      <th></th>\n",
       "      <th></th>\n",
       "    </tr>\n",
       "  </thead>\n",
       "  <tbody>\n",
       "    <tr>\n",
       "      <th>2021-01-04</th>\n",
       "      <td>375.309998</td>\n",
       "      <td>375.450012</td>\n",
       "      <td>364.820007</td>\n",
       "      <td>368.790009</td>\n",
       "      <td>354.197418</td>\n",
       "      <td>110210800</td>\n",
       "      <td>NaN</td>\n",
       "      <td>neutral</td>\n",
       "    </tr>\n",
       "    <tr>\n",
       "      <th>2021-01-05</th>\n",
       "      <td>368.100006</td>\n",
       "      <td>372.500000</td>\n",
       "      <td>368.049988</td>\n",
       "      <td>371.329987</td>\n",
       "      <td>356.636841</td>\n",
       "      <td>66426200</td>\n",
       "      <td>0.006887</td>\n",
       "      <td>up</td>\n",
       "    </tr>\n",
       "    <tr>\n",
       "      <th>2021-01-06</th>\n",
       "      <td>369.709991</td>\n",
       "      <td>376.980011</td>\n",
       "      <td>369.119995</td>\n",
       "      <td>373.549988</td>\n",
       "      <td>358.769073</td>\n",
       "      <td>107997700</td>\n",
       "      <td>0.005979</td>\n",
       "      <td>up</td>\n",
       "    </tr>\n",
       "    <tr>\n",
       "      <th>2021-01-07</th>\n",
       "      <td>376.100006</td>\n",
       "      <td>379.899994</td>\n",
       "      <td>375.910004</td>\n",
       "      <td>379.100006</td>\n",
       "      <td>364.099457</td>\n",
       "      <td>68766800</td>\n",
       "      <td>0.014857</td>\n",
       "      <td>up</td>\n",
       "    </tr>\n",
       "    <tr>\n",
       "      <th>2021-01-08</th>\n",
       "      <td>380.589996</td>\n",
       "      <td>381.489990</td>\n",
       "      <td>377.100006</td>\n",
       "      <td>381.260010</td>\n",
       "      <td>366.174011</td>\n",
       "      <td>71677200</td>\n",
       "      <td>0.005698</td>\n",
       "      <td>up</td>\n",
       "    </tr>\n",
       "    <tr>\n",
       "      <th>2021-01-11</th>\n",
       "      <td>377.850006</td>\n",
       "      <td>380.579987</td>\n",
       "      <td>377.720001</td>\n",
       "      <td>378.690002</td>\n",
       "      <td>363.705658</td>\n",
       "      <td>51034700</td>\n",
       "      <td>-0.006741</td>\n",
       "      <td>down</td>\n",
       "    </tr>\n",
       "    <tr>\n",
       "      <th>2021-01-12</th>\n",
       "      <td>378.890015</td>\n",
       "      <td>379.859985</td>\n",
       "      <td>376.359985</td>\n",
       "      <td>378.769989</td>\n",
       "      <td>363.782471</td>\n",
       "      <td>52547700</td>\n",
       "      <td>0.000211</td>\n",
       "      <td>neutral</td>\n",
       "    </tr>\n",
       "    <tr>\n",
       "      <th>2021-01-13</th>\n",
       "      <td>378.690002</td>\n",
       "      <td>380.859985</td>\n",
       "      <td>377.850006</td>\n",
       "      <td>379.790009</td>\n",
       "      <td>364.762115</td>\n",
       "      <td>45303600</td>\n",
       "      <td>0.002693</td>\n",
       "      <td>neutral</td>\n",
       "    </tr>\n",
       "    <tr>\n",
       "      <th>2021-01-14</th>\n",
       "      <td>380.589996</td>\n",
       "      <td>381.130005</td>\n",
       "      <td>378.100006</td>\n",
       "      <td>378.459991</td>\n",
       "      <td>363.484833</td>\n",
       "      <td>49989100</td>\n",
       "      <td>-0.003502</td>\n",
       "      <td>neutral</td>\n",
       "    </tr>\n",
       "    <tr>\n",
       "      <th>2021-01-15</th>\n",
       "      <td>376.720001</td>\n",
       "      <td>377.579987</td>\n",
       "      <td>373.700012</td>\n",
       "      <td>375.700012</td>\n",
       "      <td>360.833954</td>\n",
       "      <td>107160000</td>\n",
       "      <td>-0.007293</td>\n",
       "      <td>down</td>\n",
       "    </tr>\n",
       "    <tr>\n",
       "      <th>2021-01-19</th>\n",
       "      <td>378.339996</td>\n",
       "      <td>379.230011</td>\n",
       "      <td>376.750000</td>\n",
       "      <td>378.649994</td>\n",
       "      <td>363.667267</td>\n",
       "      <td>51233300</td>\n",
       "      <td>0.007852</td>\n",
       "      <td>up</td>\n",
       "    </tr>\n",
       "    <tr>\n",
       "      <th>2021-01-20</th>\n",
       "      <td>381.109985</td>\n",
       "      <td>384.790009</td>\n",
       "      <td>380.690002</td>\n",
       "      <td>383.890015</td>\n",
       "      <td>368.699921</td>\n",
       "      <td>61836100</td>\n",
       "      <td>0.013839</td>\n",
       "      <td>up</td>\n",
       "    </tr>\n",
       "    <tr>\n",
       "      <th>2021-01-21</th>\n",
       "      <td>384.489990</td>\n",
       "      <td>384.950012</td>\n",
       "      <td>383.250000</td>\n",
       "      <td>384.239990</td>\n",
       "      <td>369.036041</td>\n",
       "      <td>47840100</td>\n",
       "      <td>0.000912</td>\n",
       "      <td>neutral</td>\n",
       "    </tr>\n",
       "    <tr>\n",
       "      <th>2021-01-22</th>\n",
       "      <td>382.250000</td>\n",
       "      <td>384.130005</td>\n",
       "      <td>381.839996</td>\n",
       "      <td>382.880005</td>\n",
       "      <td>367.729889</td>\n",
       "      <td>52860500</td>\n",
       "      <td>-0.003539</td>\n",
       "      <td>neutral</td>\n",
       "    </tr>\n",
       "    <tr>\n",
       "      <th>2021-01-25</th>\n",
       "      <td>383.670013</td>\n",
       "      <td>384.769989</td>\n",
       "      <td>378.459991</td>\n",
       "      <td>384.390015</td>\n",
       "      <td>369.180115</td>\n",
       "      <td>70402000</td>\n",
       "      <td>0.003944</td>\n",
       "      <td>neutral</td>\n",
       "    </tr>\n",
       "  </tbody>\n",
       "</table>\n",
       "</div>"
      ],
      "text/plain": [
       "                  Open        High         Low       Close   Adj Close  \\\n",
       "Date                                                                     \n",
       "2021-01-04  375.309998  375.450012  364.820007  368.790009  354.197418   \n",
       "2021-01-05  368.100006  372.500000  368.049988  371.329987  356.636841   \n",
       "2021-01-06  369.709991  376.980011  369.119995  373.549988  358.769073   \n",
       "2021-01-07  376.100006  379.899994  375.910004  379.100006  364.099457   \n",
       "2021-01-08  380.589996  381.489990  377.100006  381.260010  366.174011   \n",
       "2021-01-11  377.850006  380.579987  377.720001  378.690002  363.705658   \n",
       "2021-01-12  378.890015  379.859985  376.359985  378.769989  363.782471   \n",
       "2021-01-13  378.690002  380.859985  377.850006  379.790009  364.762115   \n",
       "2021-01-14  380.589996  381.130005  378.100006  378.459991  363.484833   \n",
       "2021-01-15  376.720001  377.579987  373.700012  375.700012  360.833954   \n",
       "2021-01-19  378.339996  379.230011  376.750000  378.649994  363.667267   \n",
       "2021-01-20  381.109985  384.790009  380.690002  383.890015  368.699921   \n",
       "2021-01-21  384.489990  384.950012  383.250000  384.239990  369.036041   \n",
       "2021-01-22  382.250000  384.130005  381.839996  382.880005  367.729889   \n",
       "2021-01-25  383.670013  384.769989  378.459991  384.390015  369.180115   \n",
       "\n",
       "               Volume  daily_return    state  \n",
       "Date                                          \n",
       "2021-01-04  110210800           NaN  neutral  \n",
       "2021-01-05   66426200      0.006887       up  \n",
       "2021-01-06  107997700      0.005979       up  \n",
       "2021-01-07   68766800      0.014857       up  \n",
       "2021-01-08   71677200      0.005698       up  \n",
       "2021-01-11   51034700     -0.006741     down  \n",
       "2021-01-12   52547700      0.000211  neutral  \n",
       "2021-01-13   45303600      0.002693  neutral  \n",
       "2021-01-14   49989100     -0.003502  neutral  \n",
       "2021-01-15  107160000     -0.007293     down  \n",
       "2021-01-19   51233300      0.007852       up  \n",
       "2021-01-20   61836100      0.013839       up  \n",
       "2021-01-21   47840100      0.000912  neutral  \n",
       "2021-01-22   52860500     -0.003539  neutral  \n",
       "2021-01-25   70402000      0.003944  neutral  "
      ]
     },
     "execution_count": 396,
     "metadata": {},
     "output_type": "execute_result"
    }
   ],
   "source": [
    "train_data[\"daily_return\"] = train_data[\"Adj Close\"].pct_change()\n",
    "train_data[\"state\"] = np.select(\n",
    "    [train_data[\"daily_return\"] > NEUTRAL_BENCHMARK, train_data[\"daily_return\"] < -1 * NEUTRAL_BENCHMARK],\n",
    "    [\"up\", \"down\"],\n",
    "    default=\"neutral\"\n",
    ")\n",
    "train_data.head(15)"
   ]
  },
  {
   "cell_type": "code",
   "execution_count": 397,
   "metadata": {},
   "outputs": [],
   "source": [
    "up_to_up = len(train_data[(train_data[\"state\"] == \"up\") & (train_data[\"state\"].shift(-1) == \"up\")]) / len(train_data.query('state == \"up\"'))\n",
    "up_to_down = len(train_data[(train_data[\"state\"] == \"down\") & (train_data[\"state\"].shift(-1) == \"up\")]) / len(train_data.query('state == \"up\"'))\n",
    "up_to_neutral = len(train_data[(train_data[\"state\"] == \"neutral\") & (train_data[\"state\"].shift(-1) == \"up\")]) / len(train_data.query('state == \"up\"'))\n",
    "\n",
    "down_to_down = len(train_data[(train_data[\"state\"] == \"down\") & (train_data[\"state\"].shift(-1) == \"down\")]) / len(train_data.query('state == \"down\"'))\n",
    "down_to_up = len(train_data[(train_data[\"state\"] == \"up\") & (train_data[\"state\"].shift(-1) == \"down\")]) / len(train_data.query('state == \"down\"'))\n",
    "down_to_neutral = len(train_data[(train_data[\"state\"] == \"neutral\") & (train_data[\"state\"].shift(-1) == \"down\")]) / len(train_data.query('state == \"down\"'))\n",
    "\n",
    "neutral_to_neutral = len(train_data[(train_data[\"state\"] == \"neutral\") & (train_data[\"state\"].shift(-1) == \"neutral\")]) / len(train_data.query('state == \"neutral\"'))\n",
    "neutral_to_up = len(train_data[(train_data[\"state\"] == \"up\") & (train_data[\"state\"].shift(-1) == \"neutral\")]) / len(train_data.query('state == \"neutral\"'))\n",
    "neutral_to_down = len(train_data[(train_data[\"state\"] == \"down\") & (train_data[\"state\"].shift(-1) == \"neutral\")]) / len(train_data.query('state == \"neutral\"'))"
   ]
  },
  {
   "cell_type": "code",
   "execution_count": null,
   "metadata": {},
   "outputs": [],
   "source": []
  },
  {
   "cell_type": "code",
   "execution_count": 398,
   "metadata": {},
   "outputs": [
    {
     "name": "stdout",
     "output_type": "stream",
     "text": [
      "               up   neutral      down\n",
      "up       0.314103  0.313433  0.301370\n",
      "neutral  0.384615  0.462687  0.321918\n",
      "down     0.301282  0.218905  0.376712\n"
     ]
    }
   ],
   "source": [
    "transition_matrix = pd.DataFrame({\n",
    "    \"up\": [up_to_up, up_to_neutral, up_to_down],\n",
    "    \"neutral\": [neutral_to_up, neutral_to_neutral, neutral_to_down],\n",
    "    \"down\": [down_to_up, down_to_neutral, down_to_down]\n",
    "}, index=[\"up\", \"neutral\", \"down\"])\n",
    "transition_matrix.head()\n",
    "print(transition_matrix)"
   ]
  },
  {
   "cell_type": "code",
   "execution_count": 399,
   "metadata": {},
   "outputs": [
    {
     "data": {
      "text/html": [
       "<div>\n",
       "<style scoped>\n",
       "    .dataframe tbody tr th:only-of-type {\n",
       "        vertical-align: middle;\n",
       "    }\n",
       "\n",
       "    .dataframe tbody tr th {\n",
       "        vertical-align: top;\n",
       "    }\n",
       "\n",
       "    .dataframe thead th {\n",
       "        text-align: right;\n",
       "    }\n",
       "</style>\n",
       "<table border=\"1\" class=\"dataframe\">\n",
       "  <thead>\n",
       "    <tr style=\"text-align: right;\">\n",
       "      <th></th>\n",
       "      <th>Open</th>\n",
       "      <th>High</th>\n",
       "      <th>Low</th>\n",
       "      <th>Close</th>\n",
       "      <th>Adj Close</th>\n",
       "      <th>Volume</th>\n",
       "      <th>daily_return</th>\n",
       "      <th>state</th>\n",
       "    </tr>\n",
       "    <tr>\n",
       "      <th>Date</th>\n",
       "      <th></th>\n",
       "      <th></th>\n",
       "      <th></th>\n",
       "      <th></th>\n",
       "      <th></th>\n",
       "      <th></th>\n",
       "      <th></th>\n",
       "      <th></th>\n",
       "    </tr>\n",
       "  </thead>\n",
       "  <tbody>\n",
       "    <tr>\n",
       "      <th>2020-01-02</th>\n",
       "      <td>74.059998</td>\n",
       "      <td>75.150002</td>\n",
       "      <td>73.797501</td>\n",
       "      <td>75.087502</td>\n",
       "      <td>73.152657</td>\n",
       "      <td>135480400</td>\n",
       "      <td>NaN</td>\n",
       "      <td>down</td>\n",
       "    </tr>\n",
       "    <tr>\n",
       "      <th>2020-01-03</th>\n",
       "      <td>74.287498</td>\n",
       "      <td>75.144997</td>\n",
       "      <td>74.125000</td>\n",
       "      <td>74.357498</td>\n",
       "      <td>72.441467</td>\n",
       "      <td>146322800</td>\n",
       "      <td>-0.009722</td>\n",
       "      <td>down</td>\n",
       "    </tr>\n",
       "    <tr>\n",
       "      <th>2020-01-06</th>\n",
       "      <td>73.447502</td>\n",
       "      <td>74.989998</td>\n",
       "      <td>73.187500</td>\n",
       "      <td>74.949997</td>\n",
       "      <td>73.018677</td>\n",
       "      <td>118387200</td>\n",
       "      <td>0.007968</td>\n",
       "      <td>up</td>\n",
       "    </tr>\n",
       "    <tr>\n",
       "      <th>2020-01-07</th>\n",
       "      <td>74.959999</td>\n",
       "      <td>75.224998</td>\n",
       "      <td>74.370003</td>\n",
       "      <td>74.597504</td>\n",
       "      <td>72.675278</td>\n",
       "      <td>108872000</td>\n",
       "      <td>-0.004703</td>\n",
       "      <td>down</td>\n",
       "    </tr>\n",
       "    <tr>\n",
       "      <th>2020-01-08</th>\n",
       "      <td>74.290001</td>\n",
       "      <td>76.110001</td>\n",
       "      <td>74.290001</td>\n",
       "      <td>75.797501</td>\n",
       "      <td>73.844353</td>\n",
       "      <td>132079200</td>\n",
       "      <td>0.016086</td>\n",
       "      <td>up</td>\n",
       "    </tr>\n",
       "  </tbody>\n",
       "</table>\n",
       "</div>"
      ],
      "text/plain": [
       "                 Open       High        Low      Close  Adj Close     Volume  \\\n",
       "Date                                                                           \n",
       "2020-01-02  74.059998  75.150002  73.797501  75.087502  73.152657  135480400   \n",
       "2020-01-03  74.287498  75.144997  74.125000  74.357498  72.441467  146322800   \n",
       "2020-01-06  73.447502  74.989998  73.187500  74.949997  73.018677  118387200   \n",
       "2020-01-07  74.959999  75.224998  74.370003  74.597504  72.675278  108872000   \n",
       "2020-01-08  74.290001  76.110001  74.290001  75.797501  73.844353  132079200   \n",
       "\n",
       "            daily_return state  \n",
       "Date                            \n",
       "2020-01-02           NaN  down  \n",
       "2020-01-03     -0.009722  down  \n",
       "2020-01-06      0.007968    up  \n",
       "2020-01-07     -0.004703  down  \n",
       "2020-01-08      0.016086    up  "
      ]
     },
     "execution_count": 399,
     "metadata": {},
     "output_type": "execute_result"
    }
   ],
   "source": [
    "data.head()"
   ]
  },
  {
   "cell_type": "code",
   "execution_count": 400,
   "metadata": {},
   "outputs": [
    {
     "name": "stdout",
     "output_type": "stream",
     "text": [
      "[*********************100%%**********************]  1 of 1 completed\n"
     ]
    }
   ],
   "source": [
    "# Test Predictions\n",
    "start_date = datetime.datetime(2023, 1, 1)\n",
    "end_date = datetime.datetime(2023, 6, 1)\n",
    "ticker = \"AAPL\"\n",
    "test_data = yf.download(ticker, start=start_date, end=end_date)"
   ]
  },
  {
   "cell_type": "code",
   "execution_count": null,
   "metadata": {},
   "outputs": [],
   "source": []
  },
  {
   "cell_type": "code",
   "execution_count": 401,
   "metadata": {},
   "outputs": [],
   "source": [
    "from backtesting import Backtest, Strategy"
   ]
  },
  {
   "cell_type": "code",
   "execution_count": 402,
   "metadata": {},
   "outputs": [],
   "source": [
    "from enum import Enum\n",
    "\n",
    "class Trend(Enum):\n",
    "    DOWN = \"Down\"\n",
    "    UP = \"Up\"\n",
    "    NEUTRAL = \"Neutral\""
   ]
  },
  {
   "cell_type": "code",
   "execution_count": 403,
   "metadata": {},
   "outputs": [],
   "source": [
    "max_up_values = max(up_to_up, down_to_up, neutral_to_up)\n",
    "if max_up_values == up_to_up:\n",
    "    trend_up = Trend.UP\n",
    "elif max_up_values == down_to_up:\n",
    "    trend_up = Trend.DOWN\n",
    "else:\n",
    "    trend_up = Trend.NEUTRAL\n",
    "\n",
    "# Determine trend.down\n",
    "max_down_values = max(up_to_down, down_to_down, neutral_to_down)\n",
    "if max_down_values == up_to_down:\n",
    "    trend_down = Trend.UP\n",
    "elif max_down_values == down_to_down:\n",
    "    trend_down = Trend.DOWN\n",
    "else:\n",
    "    trend_down = Trend.NEUTRAL"
   ]
  },
  {
   "cell_type": "code",
   "execution_count": 404,
   "metadata": {},
   "outputs": [],
   "source": [
    "class MarkovStrategy(Strategy):\n",
    "    def init(self):\n",
    "        \"\"\"init\"\"\"\n",
    "\n",
    "    def get_state(self):\n",
    "        close_yest = self.data.Close[-2]\n",
    "        close_today = self.data.Close[-1]\n",
    "\n",
    "        pct = (close_today - close_yest) / close_yest\n",
    "\n",
    "        if pct > NEUTRAL_BENCHMARK:\n",
    "            return Trend.UP\n",
    "        elif pct < -NEUTRAL_BENCHMARK:\n",
    "            return Trend.DOWN\n",
    "        else:\n",
    "            return Trend.NEUTRAL\n",
    "\n",
    "\n",
    "    def next(self):\n",
    "        state = self.get_state()\n",
    "\n",
    "        self.position.close()\n",
    "        \n",
    "        if state == trend_down:\n",
    "            self.sell()\n",
    "        elif state == trend_up:\n",
    "            self.buy()\n",
    "\n",
    "        "
   ]
  },
  {
   "cell_type": "code",
   "execution_count": 405,
   "metadata": {},
   "outputs": [
    {
     "data": {
      "text/plain": [
       "Start                     2021-01-04 00:00:00\n",
       "End                       2022-12-30 00:00:00\n",
       "Duration                    725 days 00:00:00\n",
       "Exposure Time [%]                    81.11332\n",
       "Equity Final [$]                  9668.091675\n",
       "Equity Peak [$]                  11244.693176\n",
       "Return [%]                          -3.319083\n",
       "Buy & Hold Return [%]                3.698577\n",
       "Return (Ann.) [%]                   -1.676844\n",
       "Volatility (Ann.) [%]               15.551901\n",
       "Sharpe Ratio                              0.0\n",
       "Sortino Ratio                             0.0\n",
       "Calmar Ratio                              0.0\n",
       "Max. Drawdown [%]                  -14.643363\n",
       "Avg. Drawdown [%]                   -6.693558\n",
       "Max. Drawdown Duration      388 days 00:00:00\n",
       "Avg. Drawdown Duration       89 days 00:00:00\n",
       "# Trades                                  303\n",
       "Win Rate [%]                        54.125413\n",
       "Best Trade [%]                       5.001621\n",
       "Worst Trade [%]                     -4.522893\n",
       "Avg. Trade [%]                      -0.011198\n",
       "Max. Trade Duration           4 days 00:00:00\n",
       "Avg. Trade Duration           2 days 00:00:00\n",
       "Profit Factor                        0.994751\n",
       "Expectancy [%]                      -0.002595\n",
       "SQN                                 -0.144133\n",
       "_strategy                      MarkovStrategy\n",
       "_equity_curve                             ...\n",
       "_trades                        Size  Entry...\n",
       "dtype: object"
      ]
     },
     "execution_count": 405,
     "metadata": {},
     "output_type": "execute_result"
    }
   ],
   "source": [
    "bt = Backtest(train_data, MarkovStrategy, cash=10000, commission=0)\n",
    "stats = bt.run()\n",
    "stats"
   ]
  },
  {
   "cell_type": "code",
   "execution_count": 406,
   "metadata": {},
   "outputs": [
    {
     "name": "stderr",
     "output_type": "stream",
     "text": [
      "BokehDeprecationWarning: Passing lists of formats for DatetimeTickFormatter scales was deprecated in Bokeh 3.0. Configure a single string format for each scale\n",
      "/home/hunter/math214/214finalproj/.env/lib/python3.10/site-packages/backtesting/_plotting.py:250: UserWarning: DatetimeFormatter scales now only accept a single format. Using the first provided: '%d %b'\n",
      "  formatter=DatetimeTickFormatter(days=['%d %b', '%a %d'],\n",
      "BokehDeprecationWarning: Passing lists of formats for DatetimeTickFormatter scales was deprecated in Bokeh 3.0. Configure a single string format for each scale\n",
      "/home/hunter/math214/214finalproj/.env/lib/python3.10/site-packages/backtesting/_plotting.py:250: UserWarning: DatetimeFormatter scales now only accept a single format. Using the first provided: '%m/%Y'\n",
      "  formatter=DatetimeTickFormatter(days=['%d %b', '%a %d'],\n",
      "/home/hunter/math214/214finalproj/.env/lib/python3.10/site-packages/backtesting/_plotting.py:659: UserWarning: found multiple competing values for 'toolbar.active_drag' property; using the latest value\n",
      "  fig = gridplot(\n",
      "/home/hunter/math214/214finalproj/.env/lib/python3.10/site-packages/backtesting/_plotting.py:659: UserWarning: found multiple competing values for 'toolbar.active_scroll' property; using the latest value\n",
      "  fig = gridplot(\n"
     ]
    },
    {
     "data": {
      "text/html": [
       "<div style=\"display: table;\"><div style=\"display: table-row;\"><div style=\"display: table-cell;\"><b title=\"bokeh.models.plots.GridPlot\">GridPlot</b>(</div><div style=\"display: table-cell;\">id&nbsp;=&nbsp;'p7654', <span id=\"p7683\" style=\"cursor: pointer;\">&hellip;)</span></div></div><div class=\"p7682\" style=\"display: none;\"><div style=\"display: table-cell;\"></div><div style=\"display: table-cell;\">align&nbsp;=&nbsp;'auto',</div></div><div class=\"p7682\" style=\"display: none;\"><div style=\"display: table-cell;\"></div><div style=\"display: table-cell;\">aspect_ratio&nbsp;=&nbsp;None,</div></div><div class=\"p7682\" style=\"display: none;\"><div style=\"display: table-cell;\"></div><div style=\"display: table-cell;\">children&nbsp;=&nbsp;[(figure(id='p7407', ...), 0, 0), (figure(id='p7500', ...), 1, 0), (figure(id='p7367', ...), 2, 0), (figure(id='p7551', ...), 3, 0)],</div></div><div class=\"p7682\" style=\"display: none;\"><div style=\"display: table-cell;\"></div><div style=\"display: table-cell;\">cols&nbsp;=&nbsp;None,</div></div><div class=\"p7682\" style=\"display: none;\"><div style=\"display: table-cell;\"></div><div style=\"display: table-cell;\">context_menu&nbsp;=&nbsp;None,</div></div><div class=\"p7682\" style=\"display: none;\"><div style=\"display: table-cell;\"></div><div style=\"display: table-cell;\">css_classes&nbsp;=&nbsp;[],</div></div><div class=\"p7682\" style=\"display: none;\"><div style=\"display: table-cell;\"></div><div style=\"display: table-cell;\">disabled&nbsp;=&nbsp;False,</div></div><div class=\"p7682\" style=\"display: none;\"><div style=\"display: table-cell;\"></div><div style=\"display: table-cell;\">flow_mode&nbsp;=&nbsp;'block',</div></div><div class=\"p7682\" style=\"display: none;\"><div style=\"display: table-cell;\"></div><div style=\"display: table-cell;\">height&nbsp;=&nbsp;None,</div></div><div class=\"p7682\" style=\"display: none;\"><div style=\"display: table-cell;\"></div><div style=\"display: table-cell;\">height_policy&nbsp;=&nbsp;'auto',</div></div><div class=\"p7682\" style=\"display: none;\"><div style=\"display: table-cell;\"></div><div style=\"display: table-cell;\">js_event_callbacks&nbsp;=&nbsp;{},</div></div><div class=\"p7682\" style=\"display: none;\"><div style=\"display: table-cell;\"></div><div style=\"display: table-cell;\">js_property_callbacks&nbsp;=&nbsp;{},</div></div><div class=\"p7682\" style=\"display: none;\"><div style=\"display: table-cell;\"></div><div style=\"display: table-cell;\">margin&nbsp;=&nbsp;None,</div></div><div class=\"p7682\" style=\"display: none;\"><div style=\"display: table-cell;\"></div><div style=\"display: table-cell;\">max_height&nbsp;=&nbsp;None,</div></div><div class=\"p7682\" style=\"display: none;\"><div style=\"display: table-cell;\"></div><div style=\"display: table-cell;\">max_width&nbsp;=&nbsp;None,</div></div><div class=\"p7682\" style=\"display: none;\"><div style=\"display: table-cell;\"></div><div style=\"display: table-cell;\">min_height&nbsp;=&nbsp;None,</div></div><div class=\"p7682\" style=\"display: none;\"><div style=\"display: table-cell;\"></div><div style=\"display: table-cell;\">min_width&nbsp;=&nbsp;None,</div></div><div class=\"p7682\" style=\"display: none;\"><div style=\"display: table-cell;\"></div><div style=\"display: table-cell;\">name&nbsp;=&nbsp;None,</div></div><div class=\"p7682\" style=\"display: none;\"><div style=\"display: table-cell;\"></div><div style=\"display: table-cell;\">resizable&nbsp;=&nbsp;False,</div></div><div class=\"p7682\" style=\"display: none;\"><div style=\"display: table-cell;\"></div><div style=\"display: table-cell;\">rows&nbsp;=&nbsp;None,</div></div><div class=\"p7682\" style=\"display: none;\"><div style=\"display: table-cell;\"></div><div style=\"display: table-cell;\">sizing_mode&nbsp;=&nbsp;'stretch_width',</div></div><div class=\"p7682\" style=\"display: none;\"><div style=\"display: table-cell;\"></div><div style=\"display: table-cell;\">spacing&nbsp;=&nbsp;0,</div></div><div class=\"p7682\" style=\"display: none;\"><div style=\"display: table-cell;\"></div><div style=\"display: table-cell;\">styles&nbsp;=&nbsp;{},</div></div><div class=\"p7682\" style=\"display: none;\"><div style=\"display: table-cell;\"></div><div style=\"display: table-cell;\">stylesheets&nbsp;=&nbsp;[],</div></div><div class=\"p7682\" style=\"display: none;\"><div style=\"display: table-cell;\"></div><div style=\"display: table-cell;\">subscribed_events&nbsp;=&nbsp;PropertyValueSet(),</div></div><div class=\"p7682\" style=\"display: none;\"><div style=\"display: table-cell;\"></div><div style=\"display: table-cell;\">syncable&nbsp;=&nbsp;True,</div></div><div class=\"p7682\" style=\"display: none;\"><div style=\"display: table-cell;\"></div><div style=\"display: table-cell;\">tags&nbsp;=&nbsp;[],</div></div><div class=\"p7682\" style=\"display: none;\"><div style=\"display: table-cell;\"></div><div style=\"display: table-cell;\">toolbar&nbsp;=&nbsp;Toolbar(id='p7653', ...),</div></div><div class=\"p7682\" style=\"display: none;\"><div style=\"display: table-cell;\"></div><div style=\"display: table-cell;\">toolbar_location&nbsp;=&nbsp;'right',</div></div><div class=\"p7682\" style=\"display: none;\"><div style=\"display: table-cell;\"></div><div style=\"display: table-cell;\">visible&nbsp;=&nbsp;True,</div></div><div class=\"p7682\" style=\"display: none;\"><div style=\"display: table-cell;\"></div><div style=\"display: table-cell;\">width&nbsp;=&nbsp;None,</div></div><div class=\"p7682\" style=\"display: none;\"><div style=\"display: table-cell;\"></div><div style=\"display: table-cell;\">width_policy&nbsp;=&nbsp;'auto')</div></div></div>\n",
       "<script>\n",
       "(function() {\n",
       "  let expanded = false;\n",
       "  const ellipsis = document.getElementById(\"p7683\");\n",
       "  ellipsis.addEventListener(\"click\", function() {\n",
       "    const rows = document.getElementsByClassName(\"p7682\");\n",
       "    for (let i = 0; i < rows.length; i++) {\n",
       "      const el = rows[i];\n",
       "      el.style.display = expanded ? \"none\" : \"table-row\";\n",
       "    }\n",
       "    ellipsis.innerHTML = expanded ? \"&hellip;)\" : \"&lsaquo;&lsaquo;&lsaquo;\";\n",
       "    expanded = !expanded;\n",
       "  });\n",
       "})();\n",
       "</script>\n"
      ],
      "text/plain": [
       "GridPlot(id='p7654', ...)"
      ]
     },
     "execution_count": 406,
     "metadata": {},
     "output_type": "execute_result"
    }
   ],
   "source": [
    "bt.plot()"
   ]
  },
  {
   "cell_type": "code",
   "execution_count": 407,
   "metadata": {},
   "outputs": [
    {
     "data": {
      "text/plain": [
       "<backtesting.backtesting.Backtest at 0x7f7dbfdcb9d0>"
      ]
     },
     "execution_count": 407,
     "metadata": {},
     "output_type": "execute_result"
    }
   ],
   "source": [
    "bt"
   ]
  }
 ],
 "metadata": {
  "kernelspec": {
   "display_name": "Python 3",
   "language": "python",
   "name": "python3"
  },
  "language_info": {
   "codemirror_mode": {
    "name": "ipython",
    "version": 3
   },
   "file_extension": ".py",
   "mimetype": "text/x-python",
   "name": "python",
   "nbconvert_exporter": "python",
   "pygments_lexer": "ipython3",
   "version": "3.10.8"
  }
 },
 "nbformat": 4,
 "nbformat_minor": 2
}
